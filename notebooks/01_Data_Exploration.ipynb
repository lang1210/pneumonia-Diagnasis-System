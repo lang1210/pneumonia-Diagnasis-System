{
 "cells": [
  {
   "cell_type": "code",
   "execution_count": 1,
   "metadata": {},
   "outputs": [
    {
     "name": "stderr",
     "output_type": "stream",
     "text": [
      "Matplotlib is building the font cache; this may take a moment.\n"
     ]
    },
    {
     "name": "stdout",
     "output_type": "stream",
     "text": [
      "库导入成功！\n"
     ]
    }
   ],
   "source": [
    "import os\n",
    "import numpy as np\n",
    "import matplotlib.pyplot as plt\n",
    "from PIL import Image\n",
    "import random # 用于随机抽样\n",
    "\n",
    "print(\"库导入成功！\")"
   ]
  },
  {
   "cell_type": "code",
   "execution_count": 17,
   "metadata": {},
   "outputs": [
    {
     "name": "stdout",
     "output_type": "stream",
     "text": [
      "训练集'正常'目录: ../data/ChestXRay2017/chest_xray/train\\NORMAL\n",
      "训练集'肺炎'目录: ../data/ChestXRay2017/chest_xray/train\\PNEUMONIA\n"
     ]
    }
   ],
   "source": [
    "# 定义根数据目录\n",
    "base_dir = '../data/ChestXRay2017/chest_xray/' # 使用 '..' 返回上一级目录再进入data\n",
    "\n",
    "train_dir = os.path.join(base_dir, 'train')\n",
    "val_dir = os.path.join(base_dir, 'val')\n",
    "test_dir = os.path.join(base_dir, 'test')\n",
    "\n",
    "# 训练集中的分类路径\n",
    "train_normal_dir = os.path.join(train_dir, 'NORMAL')\n",
    "train_pneumonia_dir = os.path.join(train_dir, 'PNEUMONIA')\n",
    "\n",
    "print(f\"训练集'正常'目录: {train_normal_dir}\")\n",
    "print(f\"训练集'肺炎'目录: {train_pneumonia_dir}\")"
   ]
  },
  {
   "cell_type": "code",
   "execution_count": 18,
   "metadata": {},
   "outputs": [
    {
     "name": "stdout",
     "output_type": "stream",
     "text": [
      "--- 数据集样本数量统计 ---\n",
      "训练集: 正常 = 1349, 肺炎 = 3884\n",
      "验证集: 正常 = 0, 肺炎 = 0\n",
      "测试集: 正常 = 234, 肺炎 = 390\n",
      "\n",
      "结论：训练集中存在明显的类别不均衡！\n"
     ]
    }
   ],
   "source": [
    "def count_files(directory):\n",
    "    \"\"\"辅助函数：统计一个目录下的文件数量\"\"\"\n",
    "    if os.path.exists(directory):\n",
    "        return len(os.listdir(directory))\n",
    "    return 0\n",
    "\n",
    "# 统计训练集\n",
    "num_train_normal = count_files(os.path.join(train_dir, 'NORMAL'))\n",
    "num_train_pneumonia = count_files(os.path.join(train_dir, 'PNEUMONIA'))\n",
    "\n",
    "# 统计验证集\n",
    "num_val_normal = count_files(os.path.join(val_dir, 'NORMAL'))\n",
    "num_val_pneumonia = count_files(os.path.join(val_dir, 'PNEUMONIA'))\n",
    "\n",
    "# 统计测试集\n",
    "num_test_normal = count_files(os.path.join(test_dir, 'NORMAL'))\n",
    "num_test_pneumonia = count_files(os.path.join(test_dir, 'PNEUMONIA'))\n",
    "\n",
    "print(\"--- 数据集样本数量统计 ---\")\n",
    "print(f\"训练集: 正常 = {num_train_normal}, 肺炎 = {num_train_pneumonia}\")\n",
    "print(f\"验证集: 正常 = {num_val_normal}, 肺炎 = {num_val_pneumonia}\")\n",
    "print(f\"测试集: 正常 = {num_test_normal}, 肺炎 = {num_test_pneumonia}\")\n",
    "print(\"\\n结论：训练集中存在明显的类别不均衡！\")"
   ]
  },
  {
   "cell_type": "code",
   "execution_count": 2,
   "metadata": {},
   "outputs": [
    {
     "name": "stdout",
     "output_type": "stream",
     "text": [
      "开始拆分'正常'图片...\n",
      "成功移动 202 个文件到 ../data/ChestXRay2017/chest_xray/val\\NORMAL\n",
      "\n",
      "开始拆分'肺炎'图片...\n",
      "成功移动 582 个文件到 ../data/ChestXRay2017/chest_xray/val\\PNEUMONIA\n",
      "\n",
      "数据拆分完成！请重新运行上一单元格的统计代码来验证。\n"
     ]
    }
   ],
   "source": [
    "import os\n",
    "import shutil\n",
    "import random\n",
    "\n",
    "def split_data(source_dir, val_dir, split_ratio=0.15):\n",
    "    \"\"\"\n",
    "    从源文件夹拆分一定比例的文件到验证集文件夹。\n",
    "    \"\"\"\n",
    "    if not os.path.exists(val_dir):\n",
    "        os.makedirs(val_dir)\n",
    "        print(f\"创建文件夹: {val_dir}\")\n",
    "\n",
    "    files = os.listdir(source_dir)\n",
    "    random.shuffle(files) # 随机打乱\n",
    "    \n",
    "    split_point = int(len(files) * split_ratio)\n",
    "    files_to_move = files[:split_point]\n",
    "\n",
    "    for file_name in files_to_move:\n",
    "        source_path = os.path.join(source_dir, file_name)\n",
    "        dest_path = os.path.join(val_dir, file_name)\n",
    "        shutil.move(source_path, dest_path)\n",
    "    \n",
    "    print(f\"成功移动 {len(files_to_move)} 个文件到 {val_dir}\")\n",
    "\n",
    "# --- 运行拆分 ---\n",
    "# 注意！这段代码只会运行一次，移动后文件就过去了，重复运行会报错或移动空文件。\n",
    "\n",
    "# 定义路径\n",
    "base_path = '../data/ChestXRay2017/chest_xray/' # 确保这个路径是正确的\n",
    "train_normal_source = os.path.join(base_path, 'train', 'NORMAL')\n",
    "val_normal_dest = os.path.join(base_path, 'val', 'NORMAL')\n",
    "\n",
    "train_pneumonia_source = os.path.join(base_path, 'train', 'PNEUMONIA')\n",
    "val_pneumonia_dest = os.path.join(base_path, 'val', 'PNEUMONIA')\n",
    "\n",
    "# 执行拆分\n",
    "print(\"开始拆分'正常'图片...\")\n",
    "split_data(train_normal_source, val_normal_dest)\n",
    "\n",
    "print(\"\\n开始拆分'肺炎'图片...\")\n",
    "split_data(train_pneumonia_source, val_pneumonia_dest)\n",
    "\n",
    "print(\"\\n数据拆分完成！请重新运行上一单元格的统计代码来验证。\")"
   ]
  }
 ],
 "metadata": {
  "kernelspec": {
   "display_name": "pneumonia-diagnasis-system",
   "language": "python",
   "name": "python3"
  },
  "language_info": {
   "codemirror_mode": {
    "name": "ipython",
    "version": 3
   },
   "file_extension": ".py",
   "mimetype": "text/x-python",
   "name": "python",
   "nbconvert_exporter": "python",
   "pygments_lexer": "ipython3",
   "version": "3.10.18"
  }
 },
 "nbformat": 4,
 "nbformat_minor": 2
}
